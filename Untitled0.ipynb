{
  "nbformat": 4,
  "nbformat_minor": 0,
  "metadata": {
    "colab": {
      "provenance": []
    },
    "kernelspec": {
      "name": "python3",
      "display_name": "Python 3"
    },
    "language_info": {
      "name": "python"
    }
  },
  "cells": [
    {
      "cell_type": "code",
      "execution_count": null,
      "metadata": {
        "id": "EbKHTlzXUm5j"
      },
      "outputs": [],
      "source": []
    },
    {
      "cell_type": "markdown",
      "source": [
        "# Name\n",
        "My name is Mike Maurrasse"
      ],
      "metadata": {
        "id": "lEYTjXoaUtUt"
      }
    },
    {
      "cell_type": "code",
      "source": [
        "print(\"Hello Wolrd!\")"
      ],
      "metadata": {
        "id": "96Aa5-KGVBCh"
      },
      "execution_count": null,
      "outputs": []
    }
  ]
}