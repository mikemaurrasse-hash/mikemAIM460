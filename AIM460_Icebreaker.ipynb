{
  "nbformat": 4,
  "nbformat_minor": 0,
  "metadata": {
    "colab": {
      "provenance": [],
      "authorship_tag": "ABX9TyP56dumdmXYKwrOFUrP8TI+",
      "include_colab_link": true
    },
    "kernelspec": {
      "name": "python3",
      "display_name": "Python 3"
    },
    "language_info": {
      "name": "python"
    }
  },
  "cells": [
    {
      "cell_type": "markdown",
      "metadata": {
        "id": "view-in-github",
        "colab_type": "text"
      },
      "source": [
        "<a href=\"https://colab.research.google.com/github/mikemaurrasse-hash/mikemAIM460/blob/main/AIM460_Icebreaker.ipynb\" target=\"_parent\"><img src=\"https://colab.research.google.com/assets/colab-badge.svg\" alt=\"Open In Colab\"/></a>"
      ]
    },
    {
      "cell_type": "code",
      "execution_count": null,
      "metadata": {
        "id": "EbKHTlzXUm5j"
      },
      "outputs": [],
      "source": []
    },
    {
      "cell_type": "markdown",
      "source": [
        "# Name\n",
        "My name is Mike Maurrasse"
      ],
      "metadata": {
        "id": "lEYTjXoaUtUt"
      }
    },
    {
      "cell_type": "code",
      "source": [
        "print(\"Hello Wolrd!\")"
      ],
      "metadata": {
        "id": "96Aa5-KGVBCh"
      },
      "execution_count": null,
      "outputs": []
    }
  ]
}